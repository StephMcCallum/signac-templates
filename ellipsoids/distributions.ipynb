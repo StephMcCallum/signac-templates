{
 "cells": [
  {
   "cell_type": "code",
   "execution_count": 1,
   "id": "8a6d7846-12d9-4179-a27f-d679366b3080",
   "metadata": {},
   "outputs": [],
   "source": [
    "from cmeutils.structure import (\n",
    "    bond_distribution,\n",
    "    angle_distribution,\n",
    "    dihedral_distribution,\n",
    ")\n",
    "from cmeutils.plotting import get_histogram\n",
    "#from polybinderCG.coarse_grain import System\n",
    "\n",
    "import gsd.hoomd\n",
    "import matplotlib.pyplot as plt\n",
    "import numpy as np\n",
    "import signac\n",
    "from scipy import signal\n",
    "\n",
    "import os"
   ]
  },
  {
   "cell_type": "code",
   "execution_count": 10,
   "id": "b2230fb6-175c-4da0-9946-0718287b86e4",
   "metadata": {},
   "outputs": [],
   "source": [
    "project = signac.get_project(\"/home/stephaniemccallu/scratch/new-ellipsoids-dt/new-ellipsoids\")"
   ]
  },
  {
   "cell_type": "code",
   "execution_count": 15,
   "id": "cbe7e6ba-2b26-4e2d-9126-d5012d451161",
   "metadata": {},
   "outputs": [
    {
     "name": "stdout",
     "output_type": "stream",
     "text": [
      "outside of loop\n",
      "first loop\n",
      "c286978fe983711024acf205b592fa34 10 0.0001\n"
     ]
    },
    {
     "ename": "ValueError",
     "evalue": "min() iterable argument is empty",
     "output_type": "error",
     "traceback": [
      "\u001b[31m---------------------------------------------------------------------------\u001b[39m",
      "\u001b[31mValueError\u001b[39m                                Traceback (most recent call last)",
      "\u001b[36mCell\u001b[39m\u001b[36m \u001b[39m\u001b[32mIn[15]\u001b[39m\u001b[32m, line 13\u001b[39m\n\u001b[32m     11\u001b[39m \u001b[38;5;28;01mfor\u001b[39;00m job \u001b[38;5;129;01min\u001b[39;00m jobs:\n\u001b[32m     12\u001b[39m     \u001b[38;5;28mprint\u001b[39m(job.id, job.doc.lengths, job.sp.dt)\n\u001b[32m---> \u001b[39m\u001b[32m13\u001b[39m     adist = \u001b[43mangle_distribution\u001b[49m\u001b[43m(\u001b[49m\n\u001b[32m     14\u001b[39m \u001b[43m        \u001b[49m\u001b[43mgsd_file\u001b[49m\u001b[43m \u001b[49m\u001b[43m=\u001b[49m\u001b[43m \u001b[49m\u001b[43mjob\u001b[49m\u001b[43m.\u001b[49m\u001b[43mfn\u001b[49m\u001b[43m(\u001b[49m\u001b[33;43m\"\u001b[39;49m\u001b[33;43mtrajectory0.gsd\u001b[39;49m\u001b[33;43m\"\u001b[39;49m\u001b[43m)\u001b[49m\u001b[43m,\u001b[49m\n\u001b[32m     15\u001b[39m \u001b[43m        \u001b[49m\u001b[43mA_name\u001b[49m\u001b[43m=\u001b[49m\u001b[43mangle\u001b[49m\u001b[43m[\u001b[49m\u001b[32;43m0\u001b[39;49m\u001b[43m]\u001b[49m\u001b[43m,\u001b[49m\n\u001b[32m     16\u001b[39m \u001b[43m        \u001b[49m\u001b[43mB_name\u001b[49m\u001b[43m=\u001b[49m\u001b[43mangle\u001b[49m\u001b[43m[\u001b[49m\u001b[32;43m1\u001b[39;49m\u001b[43m]\u001b[49m\u001b[43m,\u001b[49m\n\u001b[32m     17\u001b[39m \u001b[43m        \u001b[49m\u001b[43mC_name\u001b[49m\u001b[43m=\u001b[49m\u001b[43mangle\u001b[49m\u001b[43m[\u001b[49m\u001b[32;43m2\u001b[39;49m\u001b[43m]\u001b[49m\u001b[43m,\u001b[49m\n\u001b[32m     18\u001b[39m \u001b[43m        \u001b[49m\u001b[43mhistogram\u001b[49m\u001b[43m=\u001b[49m\u001b[38;5;28;43;01mTrue\u001b[39;49;00m\u001b[43m,\u001b[49m\n\u001b[32m     19\u001b[39m \u001b[43m        \u001b[49m\u001b[43mnormalize\u001b[49m\u001b[43m=\u001b[49m\u001b[38;5;28;43;01mTrue\u001b[39;49;00m\u001b[43m,\u001b[49m\n\u001b[32m     20\u001b[39m \u001b[43m        \u001b[49m\u001b[43mdegrees\u001b[49m\u001b[43m=\u001b[49m\u001b[38;5;28;43;01mTrue\u001b[39;49;00m\u001b[43m,\u001b[49m\n\u001b[32m     21\u001b[39m \u001b[43m        \u001b[49m\u001b[43mstart\u001b[49m\u001b[43m \u001b[49m\u001b[43m=\u001b[49m\u001b[43m \u001b[49m\u001b[32;43m1000\u001b[39;49m\u001b[43m,\u001b[49m\n\u001b[32m     22\u001b[39m \u001b[43m        \u001b[49m\u001b[43mbins\u001b[49m\u001b[43m=\u001b[49m\u001b[43mnbins\u001b[49m\n\u001b[32m     23\u001b[39m \u001b[43m    \u001b[49m\u001b[43m)\u001b[49m\n\u001b[32m     24\u001b[39m     smooth = signal.savgol_filter(adist[:,\u001b[32m1\u001b[39m], window_length=\u001b[32m7\u001b[39m, polyorder=\u001b[32m1\u001b[39m)\n\u001b[32m     25\u001b[39m     weight_dist += smooth\n",
      "\u001b[36mFile \u001b[39m\u001b[32m~/miniforge3/envs/kg-entanglements/lib/python3.12/site-packages/cmeutils/structure.py:114\u001b[39m, in \u001b[36mangle_distribution\u001b[39m\u001b[34m(gsd_file, A_name, B_name, C_name, start, stop, degrees, histogram, theta_min, theta_max, normalize, bins)\u001b[39m\n\u001b[32m    111\u001b[39m trajectory.close()\n\u001b[32m    113\u001b[39m \u001b[38;5;28;01mif\u001b[39;00m histogram:\n\u001b[32m--> \u001b[39m\u001b[32m114\u001b[39m     \u001b[38;5;28;01mif\u001b[39;00m \u001b[38;5;28;43mmin\u001b[39;49m\u001b[43m(\u001b[49m\u001b[43mangles\u001b[49m\u001b[43m)\u001b[49m < theta_min \u001b[38;5;129;01mor\u001b[39;00m \u001b[38;5;28mmax\u001b[39m(angles) > theta_max:\n\u001b[32m    115\u001b[39m         warnings.warn(\n\u001b[32m    116\u001b[39m             \u001b[33m\"\u001b[39m\u001b[33mThere are bond angles that fall outside of \u001b[39m\u001b[33m\"\u001b[39m\n\u001b[32m    117\u001b[39m             \u001b[33m\"\u001b[39m\u001b[33myour set theta_min and theta_max range. \u001b[39m\u001b[33m\"\u001b[39m\n\u001b[32m    118\u001b[39m             \u001b[33m\"\u001b[39m\u001b[33mYou may want to adjust this range to \u001b[39m\u001b[33m\"\u001b[39m\n\u001b[32m    119\u001b[39m             \u001b[33m\"\u001b[39m\u001b[33minclude all bond angles.\u001b[39m\u001b[33m\"\u001b[39m\n\u001b[32m    120\u001b[39m         )\n\u001b[32m    121\u001b[39m     bin_centers, bin_heights = get_histogram(\n\u001b[32m    122\u001b[39m         data=np.array(angles),\n\u001b[32m    123\u001b[39m         normalize=normalize,\n\u001b[32m    124\u001b[39m         bins=bins,\n\u001b[32m    125\u001b[39m         x_range=(theta_min, theta_max),\n\u001b[32m    126\u001b[39m     )\n",
      "\u001b[31mValueError\u001b[39m: min() iterable argument is empty"
     ]
    },
    {
     "data": {
      "text/plain": [
       "<Figure size 640x480 with 0 Axes>"
      ]
     },
     "metadata": {},
     "output_type": "display_data"
    }
   ],
   "source": [
    "fig = plt.figure()\n",
    "chains = 1\n",
    "angle = \"XAX\"\n",
    "nbins = 200\n",
    "dts = []\n",
    "avg_dists = []\n",
    "print(\"outside of loop\")\n",
    "for dt, jobs in project.find_jobs({\"doc.num_mols\":1}).groupby(\"sp.dt\"):\n",
    "    weight_dist = np.zeros(nbins)\n",
    "    print(\"first loop\")\n",
    "    for job in jobs:\n",
    "        print(job.id, job.doc.lengths, job.sp.dt)\n",
    "        adist = angle_distribution(\n",
    "            gsd_file = job.fn(\"trajectory0.gsd\"),\n",
    "            A_name=angle[0],\n",
    "            B_name=angle[1],\n",
    "            C_name=angle[2],\n",
    "            histogram=True,\n",
    "            normalize=True,\n",
    "            degrees=True,\n",
    "            start = 1000,\n",
    "            bins=nbins\n",
    "        )\n",
    "        smooth = signal.savgol_filter(adist[:,1], window_length=7, polyorder=1)\n",
    "        weight_dist += smooth\n",
    "\n",
    "    dts.append(dt)\n",
    "    avg_dists.append(weight_dist/6)\n",
    "    stride = np.arange(0, len(adist[:,0]), 3)\n",
    "    plt.plot(adist[:,0], weight_dist/6, c=color_dict[dt], marker=symbol_dict[dt], markersize=0)\n",
    "    plt.plot(\n",
    "        adist[:,0][stride],\n",
    "        weight_dist[stride]/6,\n",
    "        label=label_conv[dt],\n",
    "        c=color_dict[dt],\n",
    "        marker=symbol_dict[dt],\n",
    "        linewidth=0\n",
    "    )\n",
    "    #save_distribution = np.stack((adist[:,0], weight_dist/5)).T\n",
    "    #path = f\"../learning-runs/single-chains/average_target_angle_dists/{kT}kT/{angle.lower()}_target_dist{kT}kT_{dt}_TI.txt\"\n",
    "    #np.savetxt(path, save_distribution)\n",
    "    \n",
    "#plt.legend(title=\"T/I Ratio\", loc=\"upper left\", markerscale=3)\n",
    "#plt.xlabel(\"$\\Theta$ [rad]\")\n",
    "#plt.ylabel(\"P($\\Theta$)\")\n",
    "plt.xlim(0.75, np.pi)\n",
    "fig.tight_layout()\n",
    "#plt.savefig(f\"figures/{angle}-angle-dist-{kT}kT.png\")"
   ]
  },
  {
   "cell_type": "code",
   "execution_count": null,
   "id": "d798f71e-2b10-46ee-896e-aa7baffc6f63",
   "metadata": {},
   "outputs": [],
   "source": [
    "fig = plt.figure()\n",
    "chains = 1\n",
    "angle = \"TT\"\n",
    "nbins = 200\n",
    "dts = []\n",
    "avg_dists = []\n",
    "print(\"outside of loop\")\n",
    "for dt, jobs in project.find_jobs({\"doc.num_mols\":1}).groupby(\"sp.dt\"):\n",
    "    weight_dist = np.zeros(nbins)\n",
    "    print(\"first loop\")\n",
    "    for job in jobs:\n",
    "        print(job.id, job.doc.lengths, job.sp.dt)\n",
    "        adist = bond_distribution(\n",
    "            gsd_file = job.fn(\"trajectory0.gsd\"),\n",
    "            A_name=angle[0],\n",
    "            B_name=angle[1],\n",
    "            histogram=True,\n",
    "            normalize=True,\n",
    "            start = 1000,\n",
    "            bins=nbins\n",
    "        )\n",
    "        smooth = signal.savgol_filter(adist[:,1], window_length=7, polyorder=1)\n",
    "        weight_dist += smooth\n",
    "\n",
    "    dts.append(dt)\n",
    "    avg_dists.append(weight_dist/6)\n",
    "    stride = np.arange(0, len(adist[:,0]), 3)\n",
    "    plt.plot(adist[:,0], weight_dist/6, c=color_dict[dt], marker=symbol_dict[dt], markersize=0)\n",
    "    plt.plot(\n",
    "        adist[:,0][stride],\n",
    "        weight_dist[stride]/6,\n",
    "        label=label_conv[dt],\n",
    "        c=color_dict[dt],\n",
    "        marker=symbol_dict[dt],\n",
    "        linewidth=0\n",
    "    )\n",
    "    #save_distribution = np.stack((adist[:,0], weight_dist/5)).T\n",
    "    #path = f\"../learning-runs/single-chains/average_target_angle_dists/{kT}kT/{angle.lower()}_target_dist{kT}kT_{dt}_TI.txt\"\n",
    "    #np.savetxt(path, save_distribution)\n",
    "    \n",
    "#plt.legend(title=\"T/I Ratio\", loc=\"upper left\", markerscale=3)\n",
    "#plt.xlabel(\"$\\Theta$ [rad]\")\n",
    "#plt.ylabel(\"P($\\Theta$)\")\n",
    "plt.xlim(0.75, np.pi)\n",
    "fig.tight_layout()\n",
    "#plt.savefig(f\"figures/{angle}-angle-dist-{kT}kT.png\")"
   ]
  }
 ],
 "metadata": {
  "kernelspec": {
   "display_name": "Python 3 (ipykernel)",
   "language": "python",
   "name": "python3"
  },
  "language_info": {
   "codemirror_mode": {
    "name": "ipython",
    "version": 3
   },
   "file_extension": ".py",
   "mimetype": "text/x-python",
   "name": "python",
   "nbconvert_exporter": "python",
   "pygments_lexer": "ipython3",
   "version": "3.12.10"
  }
 },
 "nbformat": 4,
 "nbformat_minor": 5
}
