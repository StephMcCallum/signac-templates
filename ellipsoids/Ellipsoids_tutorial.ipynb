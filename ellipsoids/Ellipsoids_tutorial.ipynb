{
 "cells": [
  {
   "cell_type": "code",
   "execution_count": 1,
   "id": "c0d4d0dc-be45-4a3f-8d1c-a3c09ca89d32",
   "metadata": {},
   "outputs": [
    {
     "name": "stderr",
     "output_type": "stream",
     "text": [
      "/Users/stephaniemccallum/miniforge3/envs/flowermd/lib/python3.11/site-packages/mdtraj/formats/__init__.py:13: DeprecationWarning: 'xdrlib' is deprecated and slated for removal in Python 3.13\n",
      "  from mdtraj.formats.trr import TRRTrajectoryFile\n"
     ]
    },
    {
     "name": "stdout",
     "output_type": "stream",
     "text": [
      "\n",
      "Support for writing out LAMMPS data files will be removed\n",
      "in mbuild 1.0.\n",
      "See GMSO (https://github.com/mosdef-hub/gmso/tree/main/gmso/formats/lammpsdata) for\n",
      "continued support for LAMMPS.\n",
      "\n"
     ]
    }
   ],
   "source": [
    "import warnings\n",
    "warnings.filterwarnings('ignore')\n",
    "import hoomd\n",
    "import gsd\n",
    "import matplotlib.pyplot as plt\n",
    "import numpy as np\n",
    "import gsd.hoomd\n",
    "from flowermd.utils import get_target_box_number_density\n",
    "import unyt as u\n",
    "import hoomd"
   ]
  },
  {
   "cell_type": "markdown",
   "id": "099a2e10-84e8-4e2d-8867-c6adffb0cc79",
   "metadata": {},
   "source": [
    "## System Initialization"
   ]
  },
  {
   "cell_type": "code",
   "execution_count": 2,
   "id": "8b02a48c-efac-46af-a421-c6c21e8b0936",
   "metadata": {},
   "outputs": [],
   "source": [
    "from flowermd.base import Pack,Lattice, Simulation\n",
    "from flowermd.library import EllipsoidChain\n",
    "\n",
    "ellipsoid_chain = EllipsoidChain(lengths=2,num_mols=1,lpar=1.0,bead_mass=1.0)\n",
    "system = Pack(molecules=ellipsoid_chain, density=0.05*u.Unit(\"nm**-3\"), packing_expand_factor=6,edge=2,overlap=1,fix_orientation=True)"
   ]
  },
  {
   "cell_type": "markdown",
   "id": "b81b046b-e40c-4f86-a248-afce3a6f25ea",
   "metadata": {},
   "source": [
    "## Forcefield definition"
   ]
  },
  {
   "cell_type": "code",
   "execution_count": 3,
   "id": "294093ca-b4d0-4dde-9892-1376790c5ca2",
   "metadata": {},
   "outputs": [],
   "source": [
    "from flowermd.library import EllipsoidForcefield\n",
    "\n",
    "ff = EllipsoidForcefield(epsilon=1.0,lpar=1.0,lperp=0.5,r_cut=2.0,bond_k=100,bond_r0=0,angle_k=30,angle_theta0=1.9)"
   ]
  },
  {
   "cell_type": "markdown",
   "id": "eb5b77c5-70d9-4a55-8f51-9580ff3377c0",
   "metadata": {},
   "source": [
    "## Rigid Body Constraint"
   ]
  },
  {
   "cell_type": "code",
   "execution_count": 4,
   "id": "f7c9f312-1c89-4bca-aa98-e0fa2f3629be",
   "metadata": {},
   "outputs": [],
   "source": [
    "from flowermd.utils.constraints import create_rigid_ellipsoid_chain\n",
    "\n",
    "rigid_frame, rigid = create_rigid_ellipsoid_chain(system.hoomd_snapshot)"
   ]
  },
  {
   "cell_type": "markdown",
   "id": "55dbbf68-10f4-43d6-a743-11931ce7d0e4",
   "metadata": {},
   "source": [
    "## Simulation"
   ]
  },
  {
   "cell_type": "code",
   "execution_count": 5,
   "id": "087db7f2-1a71-4186-9490-51e504ecdb5c",
   "metadata": {},
   "outputs": [
    {
     "name": "stderr",
     "output_type": "stream",
     "text": [
      "*Warning*: angle.harmonic: specified K <= 0\n",
      "*Warning*: angle.harmonic: specified t_0 <= 0\n"
     ]
    },
    {
     "name": "stdout",
     "output_type": "stream",
     "text": [
      "Initializing simulation state from a gsd.hoomd.Frame.\n",
      "Step 10000 of 100000; TPS: 54734.84; ETA: 0.0 minutes\n",
      "Step 20000 of 100000; TPS: 94268.48; ETA: 0.0 minutes\n",
      "Step 30000 of 100000; TPS: 126955.11; ETA: 0.0 minutes\n",
      "Step 40000 of 100000; TPS: 153201.53; ETA: 0.0 minutes\n",
      "Step 50000 of 100000; TPS: 177389.26; ETA: 0.0 minutes\n",
      "Step 60000 of 100000; TPS: 198780.15; ETA: 0.0 minutes\n",
      "Step 70000 of 100000; TPS: 216717.6; ETA: 0.0 minutes\n",
      "Step 80000 of 100000; TPS: 233536.41; ETA: 0.0 minutes\n",
      "Step 90000 of 100000; TPS: 248460.24; ETA: 0.0 minutes\n",
      "Step 100000 of 100000; TPS: 261405.1; ETA: 0.0 minutes\n",
      "shrink finished\n",
      "Step 9999 of 100000; TPS: 517385.9; ETA: 0.0 minutes\n",
      "Step 19999 of 100000; TPS: 519981.28; ETA: 0.0 minutes\n",
      "Step 29999 of 100000; TPS: 520436.49; ETA: 0.0 minutes\n",
      "Step 39999 of 100000; TPS: 520156.57; ETA: 0.0 minutes\n",
      "Step 49999 of 100000; TPS: 518586.51; ETA: 0.0 minutes\n",
      "Step 59999 of 100000; TPS: 518032.14; ETA: 0.0 minutes\n",
      "Step 69999 of 100000; TPS: 518365.2; ETA: 0.0 minutes\n",
      "Step 79999 of 100000; TPS: 518729.62; ETA: 0.0 minutes\n",
      "Step 89999 of 100000; TPS: 519627.71; ETA: 0.0 minutes\n",
      "Step 99999 of 100000; TPS: 520456.76; ETA: 0.0 minutes\n"
     ]
    }
   ],
   "source": [
    "gsd_path=('ellipsoid-chain-2mer.gsd')\n",
    "ellipsoid_sim = Simulation(\n",
    "    initial_state=rigid_frame,\n",
    "    forcefield=ff.hoomd_forces,\n",
    "    constraint=rigid,\n",
    "    dt=0.001,\n",
    "    gsd_write_freq=int(1e4),\n",
    "    gsd_file_name=gsd_path,\n",
    "    log_write_freq=int(1e4),\n",
    "    log_file_name='log.txt')\n",
    "\n",
    "target_box = get_target_box_number_density(density=0.01*u.Unit(\"nm**-3\"),n_beads=2)\n",
    "ellipsoid_sim.run_update_volume(final_box_lengths=target_box, kT=7.0, n_steps=1e5,tau_kt=100*ellipsoid_sim.dt,period=10,thermalize_particles=True)\n",
    "print(\"shrink finished\")\n",
    "ellipsoid_sim.run_NVT(n_steps=1e5, kT=1.0, tau_kt=10*ellipsoid_sim.dt)\n",
    "#ellipsoid_sim.save_restart_gsd(\"restart.gsd\")\n",
    "ellipsoid_sim.flush_writers()\n",
    "#ellipsoid_sim.save_simulation(\"sim.pickle\")"
   ]
  },
  {
   "cell_type": "markdown",
   "id": "8289d636-a064-4873-b17a-11a232a25331",
   "metadata": {},
   "source": [
    "## Function to redefine rigid constraint for restarting simulation"
   ]
  },
  {
   "cell_type": "code",
   "execution_count": 7,
   "id": "36ea0e55-6d62-4156-b8fd-1506a56877fb",
   "metadata": {},
   "outputs": [],
   "source": [
    "def restart_rigid_ellipsoid():\n",
    "    local_coords = [(0.0, 0.0, 0.0), (1.049999999999999, 0.0, 0.0), (1.0, 0.0, 0.0), (-1.0000000000000009, 0.0, 0.0)]\n",
    "    rigid_constrain = hoomd.md.constrain.Rigid()\n",
    "    rigid_constrain.body[\"R\"] = {\n",
    "        \"constituent_types\": [\"X\", \"A\", \"T\", \"T\"],\n",
    "        \"positions\": local_coords,\n",
    "        \"orientations\": [[1, 0, 0, 0]] * len(local_coords),\n",
    "    }\n",
    "    return rigid_constrain"
   ]
  },
  {
   "cell_type": "code",
   "execution_count": 6,
   "id": "061baec6-04be-468a-aea8-bdf7cb2c505c",
   "metadata": {},
   "outputs": [
    {
     "ename": "NameError",
     "evalue": "name 'restart_rigid_ellipsoid_sim' is not defined",
     "output_type": "error",
     "traceback": [
      "\u001b[0;31m---------------------------------------------------------------------------\u001b[0m",
      "\u001b[0;31mNameError\u001b[0m                                 Traceback (most recent call last)",
      "Cell \u001b[0;32mIn[6], line 2\u001b[0m\n\u001b[1;32m      1\u001b[0m ff \u001b[38;5;241m=\u001b[39m EllipsoidForcefield(epsilon\u001b[38;5;241m=\u001b[39m\u001b[38;5;241m1.0\u001b[39m,lpar\u001b[38;5;241m=\u001b[39m\u001b[38;5;241m1.0\u001b[39m,lperp\u001b[38;5;241m=\u001b[39m\u001b[38;5;241m0.5\u001b[39m,r_cut\u001b[38;5;241m=\u001b[39m\u001b[38;5;241m2.0\u001b[39m,bond_k\u001b[38;5;241m=\u001b[39m\u001b[38;5;241m100\u001b[39m,bond_r0\u001b[38;5;241m=\u001b[39m\u001b[38;5;241m0\u001b[39m,angle_k\u001b[38;5;241m=\u001b[39m\u001b[38;5;241m30\u001b[39m,angle_theta0\u001b[38;5;241m=\u001b[39m\u001b[38;5;241m1.9\u001b[39m)\n\u001b[0;32m----> 2\u001b[0m rigid \u001b[38;5;241m=\u001b[39m \u001b[43mrestart_rigid_ellipsoid_sim\u001b[49m()\n\u001b[1;32m      3\u001b[0m gsd_path \u001b[38;5;241m=\u001b[39m \u001b[38;5;124m\"\u001b[39m\u001b[38;5;124msim_restart.gsd\u001b[39m\u001b[38;5;124m\"\u001b[39m\n\u001b[1;32m      5\u001b[0m sim \u001b[38;5;241m=\u001b[39m Simulation(\n\u001b[1;32m      6\u001b[0m     initial_state\u001b[38;5;241m=\u001b[39m\u001b[38;5;124m\"\u001b[39m\u001b[38;5;124mrestart.gsd\u001b[39m\u001b[38;5;124m\"\u001b[39m,\n\u001b[1;32m      7\u001b[0m     forcefield\u001b[38;5;241m=\u001b[39mff\u001b[38;5;241m.\u001b[39mhoomd_forces,\n\u001b[0;32m   (...)\u001b[0m\n\u001b[1;32m     12\u001b[0m     log_file_name\u001b[38;5;241m=\u001b[39m\u001b[38;5;124m'\u001b[39m\u001b[38;5;124mlog2.txt\u001b[39m\u001b[38;5;124m'\u001b[39m,\n\u001b[1;32m     13\u001b[0m )\n",
      "\u001b[0;31mNameError\u001b[0m: name 'restart_rigid_ellipsoid_sim' is not defined"
     ]
    }
   ],
   "source": [
    "ff = EllipsoidForcefield(epsilon=1.0,lpar=1.0,lperp=0.5,r_cut=2.0,bond_k=100,bond_r0=0,angle_k=30,angle_theta0=1.9)\n",
    "rigid = restart_rigid_ellipsoid_sim()\n",
    "gsd_path = \"sim_restart.gsd\"\n",
    "\n",
    "sim = Simulation(\n",
    "    initial_state=\"restart.gsd\",\n",
    "    forcefield=ff.hoomd_forces,\n",
    "    constraint=rigid,\n",
    "    gsd_write_freq=int(1e3),\n",
    "    gsd_file_name=gsd_path,\n",
    "    log_write_freq=int(1e4),\n",
    "    log_file_name='log2.txt',\n",
    ")\n",
    "sim.run_NVT(n_steps=1e5, kT=1.0, tau_kt=10*sim.dt)\n",
    "sim.flush_writers()"
   ]
  },
  {
   "cell_type": "markdown",
   "id": "f3c0804a-5d1d-4d65-a4ba-c9426158a03e",
   "metadata": {},
   "source": [
    "## Adding ellispoid information to GSD "
   ]
  },
  {
   "cell_type": "code",
   "execution_count": 8,
   "id": "8a67ed66-c969-4419-829d-a83c6d556cff",
   "metadata": {},
   "outputs": [],
   "source": [
    "from cmeutils.gsd_utils import ellipsoid_gsd \n",
    "ellipsoid_gsd(gsd_file=gsd_path,new_file=\"ovito-ellipsoid.gsd\",lpar=1.0,lperp=0.5)"
   ]
  },
  {
   "cell_type": "code",
   "execution_count": null,
   "id": "b7468b84-e6f3-4a45-9836-69ceda12b1fb",
   "metadata": {},
   "outputs": [],
   "source": []
  }
 ],
 "metadata": {
  "kernelspec": {
   "display_name": "Python 3 (ipykernel)",
   "language": "python",
   "name": "python3"
  },
  "language_info": {
   "codemirror_mode": {
    "name": "ipython",
    "version": 3
   },
   "file_extension": ".py",
   "mimetype": "text/x-python",
   "name": "python",
   "nbconvert_exporter": "python",
   "pygments_lexer": "ipython3",
   "version": "3.11.0"
  }
 },
 "nbformat": 4,
 "nbformat_minor": 5
}
